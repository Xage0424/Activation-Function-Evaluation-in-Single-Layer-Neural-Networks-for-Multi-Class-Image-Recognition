{
  "nbformat": 4,
  "nbformat_minor": 0,
  "metadata": {
    "colab": {
      "provenance": [],
      "authorship_tag": "ABX9TyMHtyC/q2rVCjy+AMZfUE8M"
    },
    "kernelspec": {
      "name": "python3",
      "display_name": "Python 3"
    },
    "language_info": {
      "name": "python"
    }
  },
  "cells": [
    {
      "cell_type": "markdown",
      "source": [
        "**Importing the Dependencies**"
      ],
      "metadata": {
        "id": "8sHyJ9lXNn7f"
      }
    },
    {
      "cell_type": "code",
      "source": [
        "import numpy as np\n",
        "import pandas as pd\n",
        "from matplotlib import pyplot as plt\n",
        "from matplotlib import image as mpimg\n",
        "import seaborn as sns\n",
        "from sklearn.metrics import precision_score, recall_score, f1_score, confusion_matrix\n",
        "from sklearn.model_selection import KFold, cross_val_score\n",
        "from PIL import Image as img\n",
        "from google.colab.patches import cv2_imshow\n",
        "import tensorflow as tf\n",
        "tf.random.set_seed(0)   # Creating Reproduceable Seed\n",
        "from tensorflow.keras import datasets   # Importing the Datasets\n",
        "from tensorflow.keras.utils import to_categorical   # For one-hot encoding"
      ],
      "metadata": {
        "id": "98r3yBztkKHm"
      },
      "execution_count": 166,
      "outputs": []
    },
    {
      "cell_type": "markdown",
      "source": [
        "**Image Data Preparation**"
      ],
      "metadata": {
        "id": "45zRkDFXGjYo"
      }
    },
    {
      "cell_type": "code",
      "source": [
        "# Loading the datasets\n",
        "# MNIST Handwritten Digits\n",
        "# CIFAR-10\n",
        "\n",
        "(x_train_digits, y_train_digits), (x_test_digits, y_test_digits) = datasets.mnist.load_data()\n",
        "(x_train_cifar, y_train_cifar), (x_test_cifar, y_test_cifar) = datasets.cifar10.load_data()"
      ],
      "metadata": {
        "colab": {
          "base_uri": "https://localhost:8080/"
        },
        "id": "8zMgql57Hq7q",
        "outputId": "245a3faf-b66e-49bb-c9ed-7190f397847b"
      },
      "execution_count": 9,
      "outputs": [
        {
          "output_type": "stream",
          "name": "stdout",
          "text": [
            "Downloading data from https://www.cs.toronto.edu/~kriz/cifar-10-python.tar.gz\n",
            "170498071/170498071 [==============================] - 3s 0us/step\n"
          ]
        }
      ]
    },
    {
      "cell_type": "code",
      "source": [
        "# Shape of the datasets\n",
        "print(x_train_digits.shape, y_train_digits.shape, x_test_digits.shape, y_test_digits.shape)\n",
        "print(x_train_cifar.shape, y_train_cifar.shape, x_test_cifar.shape, y_test_cifar.shape)\n",
        "print(x_train_digits[0].shape, x_test_digits[0].shape)\n",
        "print(x_train_cifar[0].shape, x_test_cifar[0].shape)"
      ],
      "metadata": {
        "colab": {
          "base_uri": "https://localhost:8080/"
        },
        "id": "yK0osr2OPCnO",
        "outputId": "31ddcdf2-5717-4ffa-f93c-c226a5873a3a"
      },
      "execution_count": 46,
      "outputs": [
        {
          "output_type": "stream",
          "name": "stdout",
          "text": [
            "(60000, 28, 28) (60000,) (10000, 28, 28) (10000,)\n",
            "(50000, 32, 32, 3) (50000, 1) (10000, 32, 32, 3) (10000, 1)\n",
            "(28, 28) (28, 28)\n",
            "(32, 32, 3) (32, 32, 3)\n"
          ]
        }
      ]
    },
    {
      "cell_type": "markdown",
      "source": [
        "**70,000 Grayscale Images --> MNIST Handwritten Dataset**\n",
        "\n",
        "**60,000 RGB Images --> CIFAR-10**"
      ],
      "metadata": {
        "id": "WqmvYvMMPmSn"
      }
    },
    {
      "cell_type": "code",
      "source": [
        "# Defining the Classes\n",
        "handwritten_digits = {\n",
        "                        0:'0', 1:'1', 2:'2', 3:'3', 4:'4', 5:'5', 6:'6', 7:'7', 8:'8', 9:'9'\n",
        "}\n",
        "\n",
        "cifar = {\n",
        "          0:'airplane', 1:'automobile', 2:'bird', 3:'cat', 4:'deer', 5:'dog', 6:'frog', 7:'horse', 8:'ship', 9:'truck'\n",
        "}"
      ],
      "metadata": {
        "id": "1_ASxmKYRuf5"
      },
      "execution_count": 52,
      "outputs": []
    },
    {
      "cell_type": "code",
      "source": [
        "# Visualizing some samples of the datasets\n",
        "plt.imshow(x_train_digits[0])\n",
        "plt.show()\n",
        "cv2_imshow(x_train_digits[0])\n",
        "print('Label:', y_train_digits[0])"
      ],
      "metadata": {
        "colab": {
          "base_uri": "https://localhost:8080/",
          "height": 475
        },
        "id": "HV_Gear1QAw_",
        "outputId": "c14babad-671b-40bf-c5e1-0cdf6398877c"
      },
      "execution_count": 47,
      "outputs": [
        {
          "output_type": "display_data",
          "data": {
            "text/plain": [
              "<Figure size 640x480 with 1 Axes>"
            ],
            "image/png": "[encoded data removed]"
          },
          "metadata": {}
        },
        {
          "output_type": "display_data",
          "data": {
            "text/plain": [
              "<PIL.Image.Image image mode=L size=28x28>"
            ],
            "image/png": "[encoded data removed]"
          },
          "metadata": {}
        },
        {
          "output_type": "stream",
          "name": "stdout",
          "text": [
            "Label: 5\n"
          ]
        }
      ]
    },
    {
      "cell_type": "code",
      "source": [
        "plt.imshow(x_train_cifar[1])\n",
        "plt.show()\n",
        "print(y_train_cifar[1])\n",
        "print('Label:', cifar[9])"
      ],
      "metadata": {
        "colab": {
          "base_uri": "https://localhost:8080/",
          "height": 465
        },
        "id": "93Rl6d7lQT2J",
        "outputId": "84269521-8ada-460f-b5ef-24fbc1b9c820"
      },
      "execution_count": 48,
      "outputs": [
        {
          "output_type": "display_data",
          "data": {
            "text/plain": [
              "<Figure size 640x480 with 1 Axes>"
            ],
            "image/png": "[encoded data removed]"
          },
          "metadata": {}
        },
        {
          "output_type": "stream",
          "name": "stdout",
          "text": [
            "[9]\n",
            "Label: truck\n"
          ]
        }
      ]
    },
    {
      "cell_type": "code",
      "source": [
        "# Normalizing the dataset from 0 to 1\n",
        "#Digits\n",
        "x_train_digits = x_train_digits.astype('float32') / 255.0\n",
        "x_test_digits = x_test_digits.astype('float32') / 255.0\n",
        "\n",
        "#Cifar\n",
        "x_train_cifar = x_train_cifar.astype('float32') / 255.0\n",
        "x_test_cifar = x_test_cifar.astype('float32') / 255.0"
      ],
      "metadata": {
        "id": "Q2OmrPlIVWGH"
      },
      "execution_count": 53,
      "outputs": []
    },
    {
      "cell_type": "code",
      "source": [
        "print(x_train_digits[0])"
      ],
      "metadata": {
        "colab": {
          "base_uri": "https://localhost:8080/"
        },
        "id": "WSR033GwYzrE",
        "outputId": "98b88b91-a591-455d-9e6c-140b2e31e258"
      },
      "execution_count": 54,
      "outputs": [
        {
          "output_type": "stream",
          "name": "stdout",
          "text": [
            "[[0.         0.         0.         0.         0.         0.\n",
            "  0.         0.         0.         0.         0.         0.\n",
            "  0.         0.         0.         0.         0.         0.\n",
            "  0.         0.         0.         0.         0.         0.\n",
            "  0.         0.         0.         0.        ]\n",
            " [0.         0.         0.         0.         0.         0.\n",
            "  0.         0.         0.         0.         0.         0.\n",
            "  0.         0.         0.         0.         0.         0.\n",
            "  0.         0.         0.         0.         0.         0.\n",
            "  0.         0.         0.         0.        ]\n",
            " [0.         0.         0.         0.         0.         0.\n",
            "  0.         0.         0.         0.         0.         0.\n",
            "  0.         0.         0.         0.         0.         0.\n",
            "  0.         0.         0.         0.         0.         0.\n",
            "  0.         0.         0.         0.        ]\n",
            " [0.         0.         0.         0.         0.         0.\n",
            "  0.         0.         0.         0.         0.         0.\n",
            "  0.         0.         0.         0.         0.         0.\n",
            "  0.         0.         0.         0.         0.         0.\n",
            "  0.         0.         0.         0.        ]\n",
            " [0.         0.         0.         0.         0.         0.\n",
            "  0.         0.         0.         0.         0.         0.\n",
            "  0.         0.         0.         0.         0.         0.\n",
            "  0.         0.         0.         0.         0.         0.\n",
            "  0.         0.         0.         0.        ]\n",
            " [0.         0.         0.         0.         0.         0.\n",
            "  0.         0.         0.         0.         0.         0.\n",
            "  0.01176471 0.07058824 0.07058824 0.07058824 0.49411765 0.53333336\n",
            "  0.6862745  0.10196079 0.6509804  1.         0.96862745 0.49803922\n",
            "  0.         0.         0.         0.        ]\n",
            " [0.         0.         0.         0.         0.         0.\n",
            "  0.         0.         0.11764706 0.14117648 0.36862746 0.6039216\n",
            "  0.6666667  0.99215686 0.99215686 0.99215686 0.99215686 0.99215686\n",
            "  0.88235295 0.6745098  0.99215686 0.9490196  0.7647059  0.2509804\n",
            "  0.         0.         0.         0.        ]\n",
            " [0.         0.         0.         0.         0.         0.\n",
            "  0.         0.19215687 0.93333334 0.99215686 0.99215686 0.99215686\n",
            "  0.99215686 0.99215686 0.99215686 0.99215686 0.99215686 0.9843137\n",
            "  0.3647059  0.32156864 0.32156864 0.21960784 0.15294118 0.\n",
            "  0.         0.         0.         0.        ]\n",
            " [0.         0.         0.         0.         0.         0.\n",
            "  0.         0.07058824 0.85882354 0.99215686 0.99215686 0.99215686\n",
            "  0.99215686 0.99215686 0.7764706  0.7137255  0.96862745 0.94509804\n",
            "  0.         0.         0.         0.         0.         0.\n",
            "  0.         0.         0.         0.        ]\n",
            " [0.         0.         0.         0.         0.         0.\n",
            "  0.         0.         0.3137255  0.6117647  0.41960785 0.99215686\n",
            "  0.99215686 0.8039216  0.04313726 0.         0.16862746 0.6039216\n",
            "  0.         0.         0.         0.         0.         0.\n",
            "  0.         0.         0.         0.        ]\n",
            " [0.         0.         0.         0.         0.         0.\n",
            "  0.         0.         0.         0.05490196 0.00392157 0.6039216\n",
            "  0.99215686 0.3529412  0.         0.         0.         0.\n",
            "  0.         0.         0.         0.         0.         0.\n",
            "  0.         0.         0.         0.        ]\n",
            " [0.         0.         0.         0.         0.         0.\n",
            "  0.         0.         0.         0.         0.         0.54509807\n",
            "  0.99215686 0.74509805 0.00784314 0.         0.         0.\n",
            "  0.         0.         0.         0.         0.         0.\n",
            "  0.         0.         0.         0.        ]\n",
            " [0.         0.         0.         0.         0.         0.\n",
            "  0.         0.         0.         0.         0.         0.04313726\n",
            "  0.74509805 0.99215686 0.27450982 0.         0.         0.\n",
            "  0.         0.         0.         0.         0.         0.\n",
            "  0.         0.         0.         0.        ]\n",
            " [0.         0.         0.         0.         0.         0.\n",
            "  0.         0.         0.         0.         0.         0.\n",
            "  0.13725491 0.94509804 0.88235295 0.627451   0.42352942 0.00392157\n",
            "  0.         0.         0.         0.         0.         0.\n",
            "  0.         0.         0.         0.        ]\n",
            " [0.         0.         0.         0.         0.         0.\n",
            "  0.         0.         0.         0.         0.         0.\n",
            "  0.         0.31764707 0.9411765  0.99215686 0.99215686 0.46666667\n",
            "  0.09803922 0.         0.         0.         0.         0.\n",
            "  0.         0.         0.         0.        ]\n",
            " [0.         0.         0.         0.         0.         0.\n",
            "  0.         0.         0.         0.         0.         0.\n",
            "  0.         0.         0.1764706  0.7294118  0.99215686 0.99215686\n",
            "  0.5882353  0.10588235 0.         0.         0.         0.\n",
            "  0.         0.         0.         0.        ]\n",
            " [0.         0.         0.         0.         0.         0.\n",
            "  0.         0.         0.         0.         0.         0.\n",
            "  0.         0.         0.         0.0627451  0.3647059  0.9882353\n",
            "  0.99215686 0.73333335 0.         0.         0.         0.\n",
            "  0.         0.         0.         0.        ]\n",
            " [0.         0.         0.         0.         0.         0.\n",
            "  0.         0.         0.         0.         0.         0.\n",
            "  0.         0.         0.         0.         0.         0.9764706\n",
            "  0.99215686 0.9764706  0.2509804  0.         0.         0.\n",
            "  0.         0.         0.         0.        ]\n",
            " [0.         0.         0.         0.         0.         0.\n",
            "  0.         0.         0.         0.         0.         0.\n",
            "  0.         0.         0.18039216 0.50980395 0.7176471  0.99215686\n",
            "  0.99215686 0.8117647  0.00784314 0.         0.         0.\n",
            "  0.         0.         0.         0.        ]\n",
            " [0.         0.         0.         0.         0.         0.\n",
            "  0.         0.         0.         0.         0.         0.\n",
            "  0.15294118 0.5803922  0.8980392  0.99215686 0.99215686 0.99215686\n",
            "  0.98039216 0.7137255  0.         0.         0.         0.\n",
            "  0.         0.         0.         0.        ]\n",
            " [0.         0.         0.         0.         0.         0.\n",
            "  0.         0.         0.         0.         0.09411765 0.44705883\n",
            "  0.8666667  0.99215686 0.99215686 0.99215686 0.99215686 0.7882353\n",
            "  0.30588236 0.         0.         0.         0.         0.\n",
            "  0.         0.         0.         0.        ]\n",
            " [0.         0.         0.         0.         0.         0.\n",
            "  0.         0.         0.09019608 0.25882354 0.8352941  0.99215686\n",
            "  0.99215686 0.99215686 0.99215686 0.7764706  0.31764707 0.00784314\n",
            "  0.         0.         0.         0.         0.         0.\n",
            "  0.         0.         0.         0.        ]\n",
            " [0.         0.         0.         0.         0.         0.\n",
            "  0.07058824 0.67058825 0.85882354 0.99215686 0.99215686 0.99215686\n",
            "  0.99215686 0.7647059  0.3137255  0.03529412 0.         0.\n",
            "  0.         0.         0.         0.         0.         0.\n",
            "  0.         0.         0.         0.        ]\n",
            " [0.         0.         0.         0.         0.21568628 0.6745098\n",
            "  0.8862745  0.99215686 0.99215686 0.99215686 0.99215686 0.95686275\n",
            "  0.52156866 0.04313726 0.         0.         0.         0.\n",
            "  0.         0.         0.         0.         0.         0.\n",
            "  0.         0.         0.         0.        ]\n",
            " [0.         0.         0.         0.         0.53333336 0.99215686\n",
            "  0.99215686 0.99215686 0.83137256 0.5294118  0.5176471  0.0627451\n",
            "  0.         0.         0.         0.         0.         0.\n",
            "  0.         0.         0.         0.         0.         0.\n",
            "  0.         0.         0.         0.        ]\n",
            " [0.         0.         0.         0.         0.         0.\n",
            "  0.         0.         0.         0.         0.         0.\n",
            "  0.         0.         0.         0.         0.         0.\n",
            "  0.         0.         0.         0.         0.         0.\n",
            "  0.         0.         0.         0.        ]\n",
            " [0.         0.         0.         0.         0.         0.\n",
            "  0.         0.         0.         0.         0.         0.\n",
            "  0.         0.         0.         0.         0.         0.\n",
            "  0.         0.         0.         0.         0.         0.\n",
            "  0.         0.         0.         0.        ]\n",
            " [0.         0.         0.         0.         0.         0.\n",
            "  0.         0.         0.         0.         0.         0.\n",
            "  0.         0.         0.         0.         0.         0.\n",
            "  0.         0.         0.         0.         0.         0.\n",
            "  0.         0.         0.         0.        ]]\n"
          ]
        }
      ]
    },
    {
      "cell_type": "code",
      "source": [
        "print(x_train_cifar[0])"
      ],
      "metadata": {
        "colab": {
          "base_uri": "https://localhost:8080/"
        },
        "id": "oMzDY9_JY7c5",
        "outputId": "4509a67e-8ba6-4b50-bca9-d2a1ddcd0e80"
      },
      "execution_count": 55,
      "outputs": [
        {
          "output_type": "stream",
          "name": "stdout",
          "text": [
            "[[[0.23137255 0.24313726 0.24705882]\n",
            "  [0.16862746 0.18039216 0.1764706 ]\n",
            "  [0.19607843 0.1882353  0.16862746]\n",
            "  ...\n",
            "  [0.61960787 0.5176471  0.42352942]\n",
            "  [0.59607846 0.49019608 0.4       ]\n",
            "  [0.5803922  0.4862745  0.40392157]]\n",
            "\n",
            " [[0.0627451  0.07843138 0.07843138]\n",
            "  [0.         0.         0.        ]\n",
            "  [0.07058824 0.03137255 0.        ]\n",
            "  ...\n",
            "  [0.48235294 0.34509805 0.21568628]\n",
            "  [0.46666667 0.3254902  0.19607843]\n",
            "  [0.47843137 0.34117648 0.22352941]]\n",
            "\n",
            " [[0.09803922 0.09411765 0.08235294]\n",
            "  [0.0627451  0.02745098 0.        ]\n",
            "  [0.19215687 0.10588235 0.03137255]\n",
            "  ...\n",
            "  [0.4627451  0.32941177 0.19607843]\n",
            "  [0.47058824 0.32941177 0.19607843]\n",
            "  [0.42745098 0.28627452 0.16470589]]\n",
            "\n",
            " ...\n",
            "\n",
            " [[0.8156863  0.6666667  0.3764706 ]\n",
            "  [0.7882353  0.6        0.13333334]\n",
            "  [0.7764706  0.6313726  0.10196079]\n",
            "  ...\n",
            "  [0.627451   0.52156866 0.27450982]\n",
            "  [0.21960784 0.12156863 0.02745098]\n",
            "  [0.20784314 0.13333334 0.07843138]]\n",
            "\n",
            " [[0.7058824  0.54509807 0.3764706 ]\n",
            "  [0.6784314  0.48235294 0.16470589]\n",
            "  [0.7294118  0.5647059  0.11764706]\n",
            "  ...\n",
            "  [0.72156864 0.5803922  0.36862746]\n",
            "  [0.38039216 0.24313726 0.13333334]\n",
            "  [0.3254902  0.20784314 0.13333334]]\n",
            "\n",
            " [[0.69411767 0.5647059  0.45490196]\n",
            "  [0.65882355 0.5058824  0.36862746]\n",
            "  [0.7019608  0.5568628  0.34117648]\n",
            "  ...\n",
            "  [0.84705883 0.72156864 0.54901963]\n",
            "  [0.5921569  0.4627451  0.32941177]\n",
            "  [0.48235294 0.36078432 0.28235295]]]\n"
          ]
        }
      ]
    },
    {
      "cell_type": "code",
      "source": [
        "# One-Hot Label Encoding\n",
        "#Digits\n",
        "y_train_digits = to_categorical(y_train_digits, num_classes=10)\n",
        "y_test_digits = to_categorical(y_test_digits, num_classes=10)\n",
        "\n",
        "#Cifar\n",
        "y_train_cifar = to_categorical(y_train_cifar, num_classes=10)\n",
        "y_test_cifar = to_categorical(y_test_cifar, num_classes=10)"
      ],
      "metadata": {
        "id": "zr6PpefNZCnZ"
      },
      "execution_count": 56,
      "outputs": []
    },
    {
      "cell_type": "code",
      "source": [
        "print(y_train_digits[0])"
      ],
      "metadata": {
        "colab": {
          "base_uri": "https://localhost:8080/"
        },
        "id": "pkj25GqNaTOw",
        "outputId": "2e76a55e-f0a0-4ab0-c26d-6e445f6f304d"
      },
      "execution_count": 57,
      "outputs": [
        {
          "output_type": "stream",
          "name": "stdout",
          "text": [
            "[0. 0. 0. 0. 0. 1. 0. 0. 0. 0.]\n"
          ]
        }
      ]
    },
    {
      "cell_type": "code",
      "source": [
        "print(y_train_cifar[0])"
      ],
      "metadata": {
        "colab": {
          "base_uri": "https://localhost:8080/"
        },
        "id": "Lf9eSdKPaX3A",
        "outputId": "868b7c64-952a-4be9-f401-a4ef68f9f6fe"
      },
      "execution_count": 58,
      "outputs": [
        {
          "output_type": "stream",
          "name": "stdout",
          "text": [
            "[0. 0. 0. 0. 0. 0. 1. 0. 0. 0.]\n"
          ]
        }
      ]
    },
    {
      "cell_type": "code",
      "source": [
        "# Checking all Image Dataset Labels\n",
        "print(np.unique(y_train_digits))\n",
        "print(np.unique(y_train_cifar))"
      ],
      "metadata": {
        "colab": {
          "base_uri": "https://localhost:8080/"
        },
        "id": "H4ZSl7fwdGNx",
        "outputId": "026ee44f-e96b-4163-ec02-acc2475540d5"
      },
      "execution_count": 62,
      "outputs": [
        {
          "output_type": "stream",
          "name": "stdout",
          "text": [
            "[0. 1.]\n",
            "[0. 1.]\n"
          ]
        }
      ]
    },
    {
      "cell_type": "code",
      "source": [
        "# Checking again the image dataset shape\n",
        "print(x_train_digits.shape, x_test_digits.shape)\n",
        "print(x_train_cifar.shape, x_test_cifar.shape)"
      ],
      "metadata": {
        "colab": {
          "base_uri": "https://localhost:8080/"
        },
        "id": "wJP8c5M5dh-U",
        "outputId": "5227d549-a38a-4e01-b152-d0527d3aa456"
      },
      "execution_count": 69,
      "outputs": [
        {
          "output_type": "stream",
          "name": "stdout",
          "text": [
            "(60000, 28, 28, 1) (10000, 28, 28, 1)\n",
            "(50000, 32, 32, 3) (10000, 32, 32, 3)\n"
          ]
        }
      ]
    },
    {
      "cell_type": "markdown",
      "source": [
        "# **ReLu Activation Function**"
      ],
      "metadata": {
        "id": "SgPw6wT2GEnd"
      }
    },
    {
      "cell_type": "markdown",
      "source": [
        "**Building the Model/Shallow Neural Network - ReLu**"
      ],
      "metadata": {
        "id": "UU3kh1VthNh0"
      }
    },
    {
      "cell_type": "code",
      "source": [
        "# Defining the no. of layers, neurons and activation function of each layer\n",
        "model = tf.keras.Sequential([\n",
        "                              tf.keras.layers.Flatten(input_shape=(28,28)),\n",
        "                              tf.keras.layers.Dense(32, activation='relu'),\n",
        "                              tf.keras.layers.Dropout(0.1),\n",
        "                              tf.keras.layers.Dense(64, activation='relu'),\n",
        "                              tf.keras.layers.Dropout(0.1),\n",
        "                              tf.keras.layers.Dense(10, activation='softmax')\n",
        "])"
      ],
      "metadata": {
        "id": "hgX6iW2cHp-L"
      },
      "execution_count": 81,
      "outputs": []
    },
    {
      "cell_type": "code",
      "source": [
        "# Compiling the Model - Optimizer, Loss and Evaluation Metric\n",
        "model.compile(\n",
        "                optimizer='adam',\n",
        "                loss='categorical_crossentropy',\n",
        "                metrics=['accuracy']\n",
        ")"
      ],
      "metadata": {
        "id": "Jk8pS19TiwyN"
      },
      "execution_count": 83,
      "outputs": []
    },
    {
      "cell_type": "markdown",
      "source": [
        "## **Training the Model using MNIST Handwritten Digits Dataset**"
      ],
      "metadata": {
        "id": "qqt6hlPzoCWe"
      }
    },
    {
      "cell_type": "code",
      "source": [
        "# Training the Model - Digits\n",
        "history = model.fit(x_train_digits, y_train_digits, validation_split=0.1, epochs=20)"
      ],
      "metadata": {
        "colab": {
          "base_uri": "https://localhost:8080/"
        },
        "id": "N4N8DltTm0yT",
        "outputId": "60151246-9a1e-4dfa-b0a7-ee41d12429ff"
      },
      "execution_count": 84,
      "outputs": [
        {
          "output_type": "stream",
          "name": "stdout",
          "text": [
            "Epoch 1/20\n",
            "1688/1688 [==============================] - 5s 2ms/step - loss: 0.4475 - accuracy: 0.8624 - val_loss: 0.1655 - val_accuracy: 0.9522\n",
            "Epoch 2/20\n",
            "1688/1688 [==============================] - 4s 3ms/step - loss: 0.2446 - accuracy: 0.9263 - val_loss: 0.1265 - val_accuracy: 0.9667\n",
            "Epoch 3/20\n",
            "1688/1688 [==============================] - 4s 3ms/step - loss: 0.2019 - accuracy: 0.9378 - val_loss: 0.1072 - val_accuracy: 0.9710\n",
            "Epoch 4/20\n",
            "1688/1688 [==============================] - 4s 2ms/step - loss: 0.1794 - accuracy: 0.9444 - val_loss: 0.1055 - val_accuracy: 0.9702\n",
            "Epoch 5/20\n",
            "1688/1688 [==============================] - 4s 3ms/step - loss: 0.1637 - accuracy: 0.9499 - val_loss: 0.1079 - val_accuracy: 0.9672\n",
            "Epoch 6/20\n",
            "1688/1688 [==============================] - 4s 3ms/step - loss: 0.1527 - accuracy: 0.9535 - val_loss: 0.0986 - val_accuracy: 0.9735\n",
            "Epoch 7/20\n",
            "1688/1688 [==============================] - 4s 2ms/step - loss: 0.1441 - accuracy: 0.9553 - val_loss: 0.1023 - val_accuracy: 0.9720\n",
            "Epoch 8/20\n",
            "1688/1688 [==============================] - 4s 2ms/step - loss: 0.1388 - accuracy: 0.9579 - val_loss: 0.0978 - val_accuracy: 0.9723\n",
            "Epoch 9/20\n",
            "1688/1688 [==============================] - 5s 3ms/step - loss: 0.1322 - accuracy: 0.9586 - val_loss: 0.0979 - val_accuracy: 0.9720\n",
            "Epoch 10/20\n",
            "1688/1688 [==============================] - 4s 2ms/step - loss: 0.1271 - accuracy: 0.9604 - val_loss: 0.0981 - val_accuracy: 0.9748\n",
            "Epoch 11/20\n",
            "1688/1688 [==============================] - 5s 3ms/step - loss: 0.1231 - accuracy: 0.9611 - val_loss: 0.0969 - val_accuracy: 0.9730\n",
            "Epoch 12/20\n",
            "1688/1688 [==============================] - 5s 3ms/step - loss: 0.1195 - accuracy: 0.9622 - val_loss: 0.1000 - val_accuracy: 0.9725\n",
            "Epoch 13/20\n",
            "1688/1688 [==============================] - 4s 2ms/step - loss: 0.1127 - accuracy: 0.9643 - val_loss: 0.1026 - val_accuracy: 0.9728\n",
            "Epoch 14/20\n",
            "1688/1688 [==============================] - 5s 3ms/step - loss: 0.1109 - accuracy: 0.9648 - val_loss: 0.0998 - val_accuracy: 0.9725\n",
            "Epoch 15/20\n",
            "1688/1688 [==============================] - 5s 3ms/step - loss: 0.1093 - accuracy: 0.9652 - val_loss: 0.0942 - val_accuracy: 0.9740\n",
            "Epoch 16/20\n",
            "1688/1688 [==============================] - 4s 2ms/step - loss: 0.1055 - accuracy: 0.9663 - val_loss: 0.1030 - val_accuracy: 0.9720\n",
            "Epoch 17/20\n",
            "1688/1688 [==============================] - 5s 3ms/step - loss: 0.1027 - accuracy: 0.9674 - val_loss: 0.0943 - val_accuracy: 0.9752\n",
            "Epoch 18/20\n",
            "1688/1688 [==============================] - 5s 3ms/step - loss: 0.1042 - accuracy: 0.9669 - val_loss: 0.0981 - val_accuracy: 0.9728\n",
            "Epoch 19/20\n",
            "1688/1688 [==============================] - 5s 3ms/step - loss: 0.1026 - accuracy: 0.9668 - val_loss: 0.1011 - val_accuracy: 0.9720\n",
            "Epoch 20/20\n",
            "1688/1688 [==============================] - 5s 3ms/step - loss: 0.1001 - accuracy: 0.9679 - val_loss: 0.1016 - val_accuracy: 0.9735\n"
          ]
        }
      ]
    },
    {
      "cell_type": "code",
      "source": [
        "# Visualizing the Accuracies of the Model\n",
        "relu_accuracy = plt.figure()\n",
        "plt.plot(history.history['accuracy'], label='Training Data')\n",
        "plt.plot(history.history['val_accuracy'], label='Validation Data')\n",
        "plt.title('Accuracy of the Model - Digits - ReLu')\n",
        "plt.xlabel('Epochs')\n",
        "plt.ylabel('Accuracy')\n",
        "plt.legend()\n",
        "plt.show()\n",
        "relu_accuracy.savefig('/content/ReLu Files/ReLu Accuracy Plot - Digits.png')"
      ],
      "metadata": {
        "colab": {
          "base_uri": "https://localhost:8080/",
          "height": 472
        },
        "id": "lQaG9T-YqXT_",
        "outputId": "6b6194f2-a8ff-4942-ea10-50e64100a6d8"
      },
      "execution_count": 94,
      "outputs": [
        {
          "output_type": "display_data",
          "data": {
            "text/plain": [
              "<Figure size 640x480 with 1 Axes>"
            ],
            "image/png": "[encoded data removed]"
          },
          "metadata": {}
        }
      ]
    },
    {
      "cell_type": "code",
      "source": [
        "# Visualizing the Loss of the Model\n",
        "relu_loss = plt.figure()\n",
        "plt.plot(history.history['loss'], label='Training Data')\n",
        "plt.plot(history.history['val_loss'], label='Validation Data')\n",
        "plt.title('Loss Function of the Model - Digits - ReLu')\n",
        "plt.xlabel('Epochs')\n",
        "plt.ylabel('Loss')\n",
        "plt.legend()\n",
        "plt.show()\n",
        "relu_loss.savefig('/content/ReLu Files/ReLu Loss Function Plot - Digits.png')"
      ],
      "metadata": {
        "colab": {
          "base_uri": "https://localhost:8080/",
          "height": 472
        },
        "id": "QmbgUr0fsH0f",
        "outputId": "a1947d22-d96b-4dbe-c7d8-e89fe90706a4"
      },
      "execution_count": 95,
      "outputs": [
        {
          "output_type": "display_data",
          "data": {
            "text/plain": [
              "<Figure size 640x480 with 1 Axes>"
            ],
            "image/png": "[encoded data removed]"
          },
          "metadata": {}
        }
      ]
    },
    {
      "cell_type": "code",
      "source": [
        "# Evaluating the Model using Test Dataset\n",
        "loss, accuracy = model.evaluate(x_test_digits, y_test_digits, verbose=2)"
      ],
      "metadata": {
        "colab": {
          "base_uri": "https://localhost:8080/"
        },
        "id": "bk4C8_hv0mFt",
        "outputId": "91be48f2-5dce-4571-8d4d-40f351db3bc8"
      },
      "execution_count": 105,
      "outputs": [
        {
          "output_type": "stream",
          "name": "stdout",
          "text": [
            "313/313 - 0s - loss: 0.1098 - accuracy: 0.9700 - 415ms/epoch - 1ms/step\n"
          ]
        }
      ]
    },
    {
      "cell_type": "code",
      "source": [
        "print(loss)\n",
        "print(accuracy)"
      ],
      "metadata": {
        "colab": {
          "base_uri": "https://localhost:8080/"
        },
        "id": "-M32tnJ93RmA",
        "outputId": "e429a820-94bf-409c-bc62-89cab04d9402"
      },
      "execution_count": 106,
      "outputs": [
        {
          "output_type": "stream",
          "name": "stdout",
          "text": [
            "0.10984163731336594\n",
            "0.9700000286102295\n"
          ]
        }
      ]
    },
    {
      "cell_type": "code",
      "source": [
        "test_predict = model.predict(x_test_digits)"
      ],
      "metadata": {
        "colab": {
          "base_uri": "https://localhost:8080/"
        },
        "id": "ShDjA_g03WIi",
        "outputId": "5709ecd6-7ffa-4c0d-8f74-99c059097fd9"
      },
      "execution_count": 107,
      "outputs": [
        {
          "output_type": "stream",
          "name": "stdout",
          "text": [
            "313/313 [==============================] - 1s 3ms/step\n"
          ]
        }
      ]
    },
    {
      "cell_type": "code",
      "source": [
        "# Turning the encoded labels to labels 0-9\n",
        "test_predict_labels = [np.argmax(i) for i in test_predict]\n",
        "test_labels = [np.argmax(i) for i in y_test_digits]"
      ],
      "metadata": {
        "id": "LtSifNax204U"
      },
      "execution_count": 117,
      "outputs": []
    },
    {
      "cell_type": "code",
      "source": [
        "# Checking the created labels and prediction of the model\n",
        "plt.imshow(x_test_digits[1])\n",
        "plt.show()\n",
        "print('Test Label:', test_labels[1])\n",
        "print('Test Predict Label:', test_predict_labels[1])"
      ],
      "metadata": {
        "colab": {
          "base_uri": "https://localhost:8080/",
          "height": 465
        },
        "id": "fTTL6MYV28mt",
        "outputId": "b8acc255-27ae-4140-e9ad-5b8e98b7baa6"
      },
      "execution_count": 136,
      "outputs": [
        {
          "output_type": "display_data",
          "data": {
            "text/plain": [
              "<Figure size 640x480 with 1 Axes>"
            ],
            "image/png": "[encoded data removed]"
          },
          "metadata": {}
        },
        {
          "output_type": "stream",
          "name": "stdout",
          "text": [
            "Test Label: 2\n",
            "Test Predict Label: 2\n"
          ]
        }
      ]
    },
    {
      "cell_type": "code",
      "source": [
        "print(np.unique(test_labels))\n",
        "print(np.unique(test_predict_labels))"
      ],
      "metadata": {
        "colab": {
          "base_uri": "https://localhost:8080/"
        },
        "id": "NKOg7rrYBDeV",
        "outputId": "f99050e3-f259-4954-f140-36c919a0c592"
      },
      "execution_count": 151,
      "outputs": [
        {
          "output_type": "stream",
          "name": "stdout",
          "text": [
            "[0 1 2 3 4 5 6 7 8 9]\n",
            "[0 1 2 3 4 5 6 7 8 9]\n"
          ]
        }
      ]
    },
    {
      "cell_type": "markdown",
      "source": [
        "**Evaluating the Model using Evaluation Metrics**"
      ],
      "metadata": {
        "id": "ZkgOAfWO8YW-"
      }
    },
    {
      "cell_type": "code",
      "source": [
        "# Confusion Matrix\n",
        "cf_matrix = confusion_matrix(test_labels, test_predict_labels)"
      ],
      "metadata": {
        "id": "KiYz7rtB1Qwn"
      },
      "execution_count": 145,
      "outputs": []
    },
    {
      "cell_type": "code",
      "source": [
        "# Visualizing the confusion matrix\n",
        "relu_cfmatrix = plt.figure()\n",
        "sns.heatmap(cf_matrix, cbar=True, square=True, fmt='d', annot=True, cmap='Blues')\n",
        "plt.title('Confusion Matrix - Digits - ReLu')\n",
        "plt.show()\n",
        "relu_cfmatrix.savefig('/content/ReLu Files/ReLu Confusion Matrix - Digits')"
      ],
      "metadata": {
        "colab": {
          "base_uri": "https://localhost:8080/",
          "height": 452
        },
        "id": "yno4zgNy5IGn",
        "outputId": "be5419d0-5001-4b29-f371-f52423ddc929"
      },
      "execution_count": 138,
      "outputs": [
        {
          "output_type": "display_data",
          "data": {
            "text/plain": [
              "<Figure size 640x480 with 2 Axes>"
            ],
            "image/png": "[encoded data removed]"
          },
          "metadata": {}
        }
      ]
    },
    {
      "cell_type": "code",
      "source": [
        "# Precision - False Positive\n",
        "precision_score(test_labels, test_predict_labels, average='macro') # Each class --> Average"
      ],
      "metadata": {
        "colab": {
          "base_uri": "https://localhost:8080/"
        },
        "id": "y8GaeXAf7kOO",
        "outputId": "1a9598c0-1a59-44c2-ab28-bbd2eb13cc89"
      },
      "execution_count": 156,
      "outputs": [
        {
          "output_type": "execute_result",
          "data": {
            "text/plain": [
              "0.9699031780475872"
            ]
          },
          "metadata": {},
          "execution_count": 156
        }
      ]
    },
    {
      "cell_type": "code",
      "source": [
        "precision_score(test_labels, test_predict_labels, average='micro') # As a whole"
      ],
      "metadata": {
        "colab": {
          "base_uri": "https://localhost:8080/"
        },
        "id": "lLuEF75dBzMe",
        "outputId": "877ed518-2eee-42a3-a48e-b91794e2680d"
      },
      "execution_count": 157,
      "outputs": [
        {
          "output_type": "execute_result",
          "data": {
            "text/plain": [
              "0.97"
            ]
          },
          "metadata": {},
          "execution_count": 157
        }
      ]
    },
    {
      "cell_type": "code",
      "source": [
        "# Precision - False Negative\n",
        "recall_score(test_labels, test_predict_labels, average='macro')"
      ],
      "metadata": {
        "colab": {
          "base_uri": "https://localhost:8080/"
        },
        "id": "XLnzffK0DReI",
        "outputId": "18e6cd1d-8998-4c40-f51c-f69ca6159ce3"
      },
      "execution_count": 161,
      "outputs": [
        {
          "output_type": "execute_result",
          "data": {
            "text/plain": [
              "0.9696267650757399"
            ]
          },
          "metadata": {},
          "execution_count": 161
        }
      ]
    },
    {
      "cell_type": "code",
      "source": [
        "recall_score(test_labels, test_predict_labels, average='micro')"
      ],
      "metadata": {
        "colab": {
          "base_uri": "https://localhost:8080/"
        },
        "id": "YqPAHAQ4Dpg5",
        "outputId": "c052a8ce-5b83-4804-e13d-282c7f43dc4f"
      },
      "execution_count": 162,
      "outputs": [
        {
          "output_type": "execute_result",
          "data": {
            "text/plain": [
              "0.97"
            ]
          },
          "metadata": {},
          "execution_count": 162
        }
      ]
    },
    {
      "cell_type": "code",
      "source": [
        "# F1 Score - Harmonic Mean\n",
        "f1_score(test_labels, test_predict_labels, average='macro')"
      ],
      "metadata": {
        "colab": {
          "base_uri": "https://localhost:8080/"
        },
        "id": "Q7h3yiF0DyUZ",
        "outputId": "41916f9d-2df9-4182-d251-dd346395cca6"
      },
      "execution_count": 163,
      "outputs": [
        {
          "output_type": "execute_result",
          "data": {
            "text/plain": [
              "0.9696926034728579"
            ]
          },
          "metadata": {},
          "execution_count": 163
        }
      ]
    },
    {
      "cell_type": "code",
      "source": [
        "f1_score(test_labels, test_predict_labels, average='micro')"
      ],
      "metadata": {
        "colab": {
          "base_uri": "https://localhost:8080/"
        },
        "id": "AJbgoGXfEFg4",
        "outputId": "6f8ce99a-1525-4043-a6d8-31719d6fbe3b"
      },
      "execution_count": 164,
      "outputs": [
        {
          "output_type": "execute_result",
          "data": {
            "text/plain": [
              "0.97"
            ]
          },
          "metadata": {},
          "execution_count": 164
        }
      ]
    },
    {
      "cell_type": "markdown",
      "source": [
        "**SUMMARY: Digits Dataset**\n",
        "\n",
        "**(20th Epoch)**\n",
        "\n",
        "Accuracy: 0.9679\n",
        "\n",
        "Validation Accuracy: 0.9735\n",
        "\n",
        "Loss: 0.1001\n",
        "\n",
        "Validation Loss: 0.1016\n",
        "\n",
        "**(Test Dataset Evaluation)**\n",
        "\n",
        "Test Accuracy: 0.9700\n",
        "\n",
        "**(Macro - Micro Evaluation)**\n",
        "\n",
        "Precision: 0.9699 - 0.97\n",
        "\n",
        "Recall: 0.9696 - 0.97\n",
        "\n",
        "F1 Score: 0.9696 - 0.97"
      ],
      "metadata": {
        "id": "r-1C4jL4J_uh"
      }
    },
    {
      "cell_type": "markdown",
      "source": [
        "## **Training the Model using CIFAR-10 Dataset**"
      ],
      "metadata": {
        "id": "3GaeEwz3oY31"
      }
    },
    {
      "cell_type": "code",
      "source": [
        "# Training the Model - Cifar\n",
        "history = model.fit(x_train_digits, y_train_digits, validation_split=0.1, epochs=20)"
      ],
      "metadata": {
        "id": "72q5H1qAohh0"
      },
      "execution_count": null,
      "outputs": []
    }
  ]
}